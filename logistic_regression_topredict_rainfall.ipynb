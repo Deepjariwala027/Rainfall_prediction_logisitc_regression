{
 "cells": [
  {
   "cell_type": "code",
   "execution_count": 36,
   "metadata": {},
   "outputs": [
    {
     "name": "stdout",
     "output_type": "stream",
     "text": [
      "   MinTemp  MaxTemp  Rainfall  Evaporation  Sunshine WindGustDir  \\\n",
      "0      8.0     24.3       0.0          3.4       6.3          NW   \n",
      "1     14.0     26.9       3.6          4.4       9.7         ENE   \n",
      "2     13.7     23.4       3.6          5.8       3.3          NW   \n",
      "3     13.3     15.5      39.8          7.2       9.1          NW   \n",
      "4      7.6     16.1       2.8          5.6      10.6         SSE   \n",
      "\n",
      "   WindGustSpeed WindDir9am WindDir3pm  WindSpeed9am  ...  Humidity3pm  \\\n",
      "0           30.0         SW         NW           6.0  ...           29   \n",
      "1           39.0          E          W           4.0  ...           36   \n",
      "2           85.0          N        NNE           6.0  ...           69   \n",
      "3           54.0        WNW          W          30.0  ...           56   \n",
      "4           50.0        SSE        ESE          20.0  ...           49   \n",
      "\n",
      "   Pressure9am  Pressure3pm  Cloud9am  Cloud3pm  Temp9am  Temp3pm  RainToday  \\\n",
      "0       1019.7       1015.0         7         7     14.4     23.6         No   \n",
      "1       1012.4       1008.4         5         3     17.5     25.7        Yes   \n",
      "2       1009.5       1007.2         8         7     15.4     20.2        Yes   \n",
      "3       1005.5       1007.0         2         7     13.5     14.1        Yes   \n",
      "4       1018.3       1018.5         7         7     11.1     15.4        Yes   \n",
      "\n",
      "   RISK_MM RainTomorrow  \n",
      "0      3.6          Yes  \n",
      "1      3.6          Yes  \n",
      "2     39.8          Yes  \n",
      "3      2.8          Yes  \n",
      "4      0.0           No  \n",
      "\n",
      "[5 rows x 22 columns]\n",
      "(366, 22)\n",
      "     MinTemp  MaxTemp  Rainfall  Evaporation  Humidity9am  Humidity3pm  \\\n",
      "0        8.0     24.3       0.0          3.4           68           29   \n",
      "1       14.0     26.9       3.6          4.4           80           36   \n",
      "2       13.7     23.4       3.6          5.8           82           69   \n",
      "3       13.3     15.5      39.8          7.2           62           56   \n",
      "4        7.6     16.1       2.8          5.6           68           49   \n",
      "..       ...      ...       ...          ...          ...          ...   \n",
      "361      9.0     30.7       0.0          7.6           38           15   \n",
      "362      7.1     28.4       0.0         11.6           45           22   \n",
      "363     12.5     19.9       0.0          8.4           63           47   \n",
      "364     12.5     26.9       0.0          5.0           69           39   \n",
      "365     12.3     30.2       0.0          6.0           43           13   \n",
      "\n",
      "     Pressure3pm  Cloud9am  Cloud3pm RainToday  AvgHum  Cloud_cover  \n",
      "0         1015.0         7         7        No     1.0          7.0  \n",
      "1         1008.4         5         3       Yes     1.0          4.0  \n",
      "2         1007.2         8         7       Yes     1.0          7.5  \n",
      "3         1007.0         2         7       Yes     1.0          4.5  \n",
      "4         1018.5         7         7       Yes     1.0          7.0  \n",
      "..           ...       ...       ...       ...     ...          ...  \n",
      "361       1010.8         1         3        No     0.0          2.0  \n",
      "362       1016.9         0         1        No     0.0          0.5  \n",
      "363       1022.8         3         2        No     1.0          2.5  \n",
      "364       1016.2         6         7        No     1.0          6.5  \n",
      "365       1009.2         1         1        No     0.0          1.0  \n",
      "\n",
      "[366 rows x 12 columns]\n",
      "          MinTemp     MaxTemp    Rainfall  Evaporation  Humidity9am  \\\n",
      "count  366.000000  366.000000  366.000000   366.000000   366.000000   \n",
      "mean     7.265574   20.550273    1.428415     4.521858    72.035519   \n",
      "std      6.025800    6.690516    4.225800     2.669383    13.137058   \n",
      "min     -5.300000    7.600000    0.000000     0.200000    36.000000   \n",
      "25%      2.300000   15.025000    0.000000     2.200000    64.000000   \n",
      "50%      7.450000   19.650000    0.000000     4.200000    72.000000   \n",
      "75%     12.500000   25.500000    0.200000     6.400000    81.000000   \n",
      "max     20.900000   35.800000   39.800000    13.800000    99.000000   \n",
      "\n",
      "       Humidity3pm  Pressure3pm    Cloud9am    Cloud3pm      AvgHum  \\\n",
      "count   366.000000   366.000000  366.000000  366.000000  366.000000   \n",
      "mean     44.519126  1016.810383    3.890710    4.024590    0.863388   \n",
      "std      16.850947     6.469422    2.956131    2.666268    0.343907   \n",
      "min      13.000000   996.800000    0.000000    0.000000    0.000000   \n",
      "25%      32.250000  1012.800000    1.000000    1.000000    1.000000   \n",
      "50%      43.000000  1017.400000    3.500000    4.000000    1.000000   \n",
      "75%      55.000000  1021.475000    7.000000    7.000000    1.000000   \n",
      "max      96.000000  1033.200000    8.000000    8.000000    1.000000   \n",
      "\n",
      "       Cloud_cover  \n",
      "count   366.000000  \n",
      "mean      3.957650  \n",
      "std       2.455965  \n",
      "min       0.000000  \n",
      "25%       1.500000  \n",
      "50%       4.000000  \n",
      "75%       6.500000  \n",
      "max       8.000000  \n"
     ]
    },
    {
     "data": {
      "image/png": "[encoded data removed]",
      "text/plain": [
       "<Figure size 432x288 with 1 Axes>"
      ]
     },
     "metadata": {
      "needs_background": "light"
     },
     "output_type": "display_data"
    }
   ],
   "source": [
    "#import libraries\n",
    "import pandas as pd\n",
    "import numpy as np\n",
    "import matplotlib.pyplot as plt\n",
    "import seaborn as sns\n",
    "import math\n",
    "from sklearn.model_selection import train_test_split\n",
    "from sklearn.linear_model import LinearRegression\n",
    "from sklearn.linear_model import LogisticRegression\n",
    "from sklearn.metrics import r2_score\n",
    "from sklearn.metrics import classification_report\n",
    "from sklearn.metrics import confusion_matrix\n",
    "\n",
    "#enter dataset\n",
    "dataset = pd.read_csv(\"weather.csv\")\n",
    "print(dataset.head(5))\n",
    "print(dataset.shape)\n",
    "\n",
    "# drop or delete the unnecessary columns in the data. \n",
    "clean_data_1 = dataset.drop(['Sunshine','WindGustDir','WindGustSpeed','WindDir9am','WindDir3pm','WindSpeed9am',\n",
    "                             'Pressure9am','Temp9am','Temp3pm','RISK_MM','RainTomorrow','WindSpeed3pm'], axis = 1) \n",
    "\n",
    "\n",
    "clean_data_1[\"AvgHum\"] = clean_data_1[['Humidity3pm','Humidity9am']].mean(axis=1)\n",
    "clean_data_1[\"Cloud_cover\"] = clean_data_1[['Cloud9am','Cloud3pm']].mean(axis=1)\n",
    "\n",
    "clean_data_1.loc[clean_data_1['AvgHum'] < 45, 'AvgHum'] = 0\n",
    "clean_data_1.loc[clean_data_1['AvgHum'] > 45, 'AvgHum'] = 1\n",
    "clean_data_1.loc[clean_data_1['AvgHum'] == 45, 'AvgHum'] = 1\n",
    "\n",
    "print(clean_data_1)\n",
    "clean_data_1.to_csv('multi_test.csv')\n",
    "\n",
    "#Analyzing Data\n",
    "sns.countplot(x=\"RainToday\", data=clean_data_1)\n",
    "\n",
    "# statistical parameters\n",
    "stats = clean_data_1.describe()\n",
    "print(stats)"
   ]
  },
  {
   "cell_type": "code",
   "execution_count": 20,
   "metadata": {},
   "outputs": [
    {
     "data": {
      "text/plain": [
       "<matplotlib.axes._subplots.AxesSubplot at 0x2ddd77c9e48>"
      ]
     },
     "execution_count": 20,
     "metadata": {},
     "output_type": "execute_result"
    },
    {
     "data": {
      "image/png": "[encoded data removed]",
      "text/plain": [
       "<Figure size 432x288 with 1 Axes>"
      ]
     },
     "metadata": {
      "needs_background": "light"
     },
     "output_type": "display_data"
    }
   ],
   "source": [
    "sns.countplot(x='RainToday', hue = 'AvgHum', data = clean_data_1)"
   ]
  },
  {
   "cell_type": "code",
   "execution_count": 21,
   "metadata": {},
   "outputs": [
    {
     "data": {
      "text/plain": [
       "<matplotlib.axes._subplots.AxesSubplot at 0x2ddd782ca08>"
      ]
     },
     "execution_count": 21,
     "metadata": {},
     "output_type": "execute_result"
    },
    {
     "data": {
      "image/png": "[encoded data removed]",
      "text/plain": [
       "<Figure size 432x288 with 1 Axes>"
      ]
     },
     "metadata": {
      "needs_background": "light"
     },
     "output_type": "display_data"
    }
   ],
   "source": [
    "sns.countplot(x='RainToday', hue='Cloud_cover', data = clean_data_1)"
   ]
  },
  {
   "cell_type": "code",
   "execution_count": 22,
   "metadata": {},
   "outputs": [
    {
     "data": {
      "text/plain": [
       "<matplotlib.axes._subplots.AxesSubplot at 0x2ddd7921888>"
      ]
     },
     "execution_count": 22,
     "metadata": {},
     "output_type": "execute_result"
    },
    {
     "data": {
      "image/png": "[encoded data removed]",
      "text/plain": [
       "<Figure size 432x288 with 1 Axes>"
      ]
     },
     "metadata": {
      "needs_background": "light"
     },
     "output_type": "display_data"
    }
   ],
   "source": [
    "sns.countplot(x='RainToday', hue='Cloud9am', data = clean_data_1)"
   ]
  },
  {
   "cell_type": "code",
   "execution_count": 23,
   "metadata": {},
   "outputs": [
    {
     "data": {
      "text/plain": [
       "<matplotlib.axes._subplots.AxesSubplot at 0x2ddd79c9cc8>"
      ]
     },
     "execution_count": 23,
     "metadata": {},
     "output_type": "execute_result"
    },
    {
     "data": {
      "image/png": "[encoded data removed]",
      "text/plain": [
       "<Figure size 432x288 with 1 Axes>"
      ]
     },
     "metadata": {
      "needs_background": "light"
     },
     "output_type": "display_data"
    }
   ],
   "source": [
    "sns.countplot(x='RainToday', hue='Cloud3pm', data = clean_data_1)"
   ]
  },
  {
   "cell_type": "code",
   "execution_count": 24,
   "metadata": {},
   "outputs": [
    {
     "name": "stdout",
     "output_type": "stream",
     "text": [
      "<class 'pandas.core.frame.DataFrame'>\n",
      "RangeIndex: 366 entries, 0 to 365\n",
      "Data columns (total 12 columns):\n",
      "MinTemp        366 non-null float64\n",
      "MaxTemp        366 non-null float64\n",
      "Rainfall       366 non-null float64\n",
      "Evaporation    366 non-null float64\n",
      "Humidity9am    366 non-null int64\n",
      "Humidity3pm    366 non-null int64\n",
      "Pressure3pm    366 non-null float64\n",
      "Cloud9am       366 non-null int64\n",
      "Cloud3pm       366 non-null int64\n",
      "RainToday      366 non-null object\n",
      "AvgHum         366 non-null float64\n",
      "Cloud_cover    366 non-null float64\n",
      "dtypes: float64(7), int64(4), object(1)\n",
      "memory usage: 34.4+ KB\n"
     ]
    }
   ],
   "source": [
    "clean_data_1.info()"
   ]
  },
  {
   "cell_type": "code",
   "execution_count": 25,
   "metadata": {},
   "outputs": [
    {
     "data": {
      "text/plain": [
       "<matplotlib.axes._subplots.AxesSubplot at 0x2ddd7a77908>"
      ]
     },
     "execution_count": 25,
     "metadata": {},
     "output_type": "execute_result"
    },
    {
     "data": {
      "image/png": "[encoded data removed]",
      "text/plain": [
       "<Figure size 432x288 with 2 Axes>"
      ]
     },
     "metadata": {
      "needs_background": "light"
     },
     "output_type": "display_data"
    }
   ],
   "source": [
    "sns.heatmap(clean_data_1.isnull(), yticklabels=False, cmap=\"viridis\")"
   ]
  },
  {
   "cell_type": "code",
   "execution_count": 26,
   "metadata": {},
   "outputs": [
    {
     "data": {
      "text/plain": [
       "<matplotlib.axes._subplots.AxesSubplot at 0x2ddd7b1dc48>"
      ]
     },
     "execution_count": 26,
     "metadata": {},
     "output_type": "execute_result"
    },
    {
     "data": {
      "image/png": "[encoded data removed]",
      "text/plain": [
       "<Figure size 432x288 with 1 Axes>"
      ]
     },
     "metadata": {
      "needs_background": "light"
     },
     "output_type": "display_data"
    }
   ],
   "source": [
    "sns.boxplot(x=\"Cloud3pm\", y=\"AvgHum\", data=clean_data_1)"
   ]
  },
  {
   "cell_type": "code",
   "execution_count": 27,
   "metadata": {},
   "outputs": [
    {
     "data": {
      "text/plain": [
       "MinTemp        0\n",
       "MaxTemp        0\n",
       "Rainfall       0\n",
       "Evaporation    0\n",
       "Humidity9am    0\n",
       "Humidity3pm    0\n",
       "Pressure3pm    0\n",
       "Cloud9am       0\n",
       "Cloud3pm       0\n",
       "RainToday      0\n",
       "AvgHum         0\n",
       "Cloud_cover    0\n",
       "dtype: int64"
      ]
     },
     "execution_count": 27,
     "metadata": {},
     "output_type": "execute_result"
    }
   ],
   "source": [
    "clean_data_1.isnull().sum()"
   ]
  },
  {
   "cell_type": "code",
   "execution_count": 28,
   "metadata": {},
   "outputs": [
    {
     "data": {
      "text/html": [
       "<div>\n",
       "<style scoped>\n",
       "    .dataframe tbody tr th:only-of-type {\n",
       "        vertical-align: middle;\n",
       "    }\n",
       "\n",
       "    .dataframe tbody tr th {\n",
       "        vertical-align: top;\n",
       "    }\n",
       "\n",
       "    .dataframe thead th {\n",
       "        text-align: right;\n",
       "    }\n",
       "</style>\n",
       "<table border=\"1\" class=\"dataframe\">\n",
       "  <thead>\n",
       "    <tr style=\"text-align: right;\">\n",
       "      <th></th>\n",
       "      <th>Yes</th>\n",
       "    </tr>\n",
       "  </thead>\n",
       "  <tbody>\n",
       "    <tr>\n",
       "      <td>0</td>\n",
       "      <td>0</td>\n",
       "    </tr>\n",
       "    <tr>\n",
       "      <td>1</td>\n",
       "      <td>1</td>\n",
       "    </tr>\n",
       "    <tr>\n",
       "      <td>2</td>\n",
       "      <td>1</td>\n",
       "    </tr>\n",
       "    <tr>\n",
       "      <td>3</td>\n",
       "      <td>1</td>\n",
       "    </tr>\n",
       "    <tr>\n",
       "      <td>4</td>\n",
       "      <td>1</td>\n",
       "    </tr>\n",
       "    <tr>\n",
       "      <td>5</td>\n",
       "      <td>0</td>\n",
       "    </tr>\n",
       "  </tbody>\n",
       "</table>\n",
       "</div>"
      ],
      "text/plain": [
       "   Yes\n",
       "0    0\n",
       "1    1\n",
       "2    1\n",
       "3    1\n",
       "4    1\n",
       "5    0"
      ]
     },
     "execution_count": 28,
     "metadata": {},
     "output_type": "execute_result"
    }
   ],
   "source": [
    "RainToday1 = pd.get_dummies(clean_data_1['RainToday'], drop_first=True)\n",
    "RainToday1.head(6)"
   ]
  },
  {
   "cell_type": "code",
   "execution_count": 29,
   "metadata": {},
   "outputs": [
    {
     "data": {
      "text/html": [
       "<div>\n",
       "<style scoped>\n",
       "    .dataframe tbody tr th:only-of-type {\n",
       "        vertical-align: middle;\n",
       "    }\n",
       "\n",
       "    .dataframe tbody tr th {\n",
       "        vertical-align: top;\n",
       "    }\n",
       "\n",
       "    .dataframe thead th {\n",
       "        text-align: right;\n",
       "    }\n",
       "</style>\n",
       "<table border=\"1\" class=\"dataframe\">\n",
       "  <thead>\n",
       "    <tr style=\"text-align: right;\">\n",
       "      <th></th>\n",
       "      <th>1.0</th>\n",
       "    </tr>\n",
       "  </thead>\n",
       "  <tbody>\n",
       "    <tr>\n",
       "      <td>0</td>\n",
       "      <td>1</td>\n",
       "    </tr>\n",
       "    <tr>\n",
       "      <td>1</td>\n",
       "      <td>1</td>\n",
       "    </tr>\n",
       "    <tr>\n",
       "      <td>2</td>\n",
       "      <td>1</td>\n",
       "    </tr>\n",
       "    <tr>\n",
       "      <td>3</td>\n",
       "      <td>1</td>\n",
       "    </tr>\n",
       "    <tr>\n",
       "      <td>4</td>\n",
       "      <td>1</td>\n",
       "    </tr>\n",
       "    <tr>\n",
       "      <td>5</td>\n",
       "      <td>1</td>\n",
       "    </tr>\n",
       "  </tbody>\n",
       "</table>\n",
       "</div>"
      ],
      "text/plain": [
       "   1.0\n",
       "0    1\n",
       "1    1\n",
       "2    1\n",
       "3    1\n",
       "4    1\n",
       "5    1"
      ]
     },
     "execution_count": 29,
     "metadata": {},
     "output_type": "execute_result"
    }
   ],
   "source": [
    "AvgHum1 = pd.get_dummies(clean_data_1['AvgHum'], drop_first=True)\n",
    "AvgHum1.head(6)"
   ]
  },
  {
   "cell_type": "code",
   "execution_count": 30,
   "metadata": {},
   "outputs": [
    {
     "data": {
      "text/html": [
       "<div>\n",
       "<style scoped>\n",
       "    .dataframe tbody tr th:only-of-type {\n",
       "        vertical-align: middle;\n",
       "    }\n",
       "\n",
       "    .dataframe tbody tr th {\n",
       "        vertical-align: top;\n",
       "    }\n",
       "\n",
       "    .dataframe thead th {\n",
       "        text-align: right;\n",
       "    }\n",
       "</style>\n",
       "<table border=\"1\" class=\"dataframe\">\n",
       "  <thead>\n",
       "    <tr style=\"text-align: right;\">\n",
       "      <th></th>\n",
       "      <th>0.5</th>\n",
       "      <th>1.0</th>\n",
       "      <th>1.5</th>\n",
       "      <th>2.0</th>\n",
       "      <th>2.5</th>\n",
       "      <th>3.0</th>\n",
       "      <th>3.5</th>\n",
       "      <th>4.0</th>\n",
       "      <th>4.5</th>\n",
       "      <th>5.0</th>\n",
       "      <th>5.5</th>\n",
       "      <th>6.0</th>\n",
       "      <th>6.5</th>\n",
       "      <th>7.0</th>\n",
       "      <th>7.5</th>\n",
       "      <th>8.0</th>\n",
       "    </tr>\n",
       "  </thead>\n",
       "  <tbody>\n",
       "    <tr>\n",
       "      <td>0</td>\n",
       "      <td>0</td>\n",
       "      <td>0</td>\n",
       "      <td>0</td>\n",
       "      <td>0</td>\n",
       "      <td>0</td>\n",
       "      <td>0</td>\n",
       "      <td>0</td>\n",
       "      <td>0</td>\n",
       "      <td>0</td>\n",
       "      <td>0</td>\n",
       "      <td>0</td>\n",
       "      <td>0</td>\n",
       "      <td>0</td>\n",
       "      <td>1</td>\n",
       "      <td>0</td>\n",
       "      <td>0</td>\n",
       "    </tr>\n",
       "    <tr>\n",
       "      <td>1</td>\n",
       "      <td>0</td>\n",
       "      <td>0</td>\n",
       "      <td>0</td>\n",
       "      <td>0</td>\n",
       "      <td>0</td>\n",
       "      <td>0</td>\n",
       "      <td>0</td>\n",
       "      <td>1</td>\n",
       "      <td>0</td>\n",
       "      <td>0</td>\n",
       "      <td>0</td>\n",
       "      <td>0</td>\n",
       "      <td>0</td>\n",
       "      <td>0</td>\n",
       "      <td>0</td>\n",
       "      <td>0</td>\n",
       "    </tr>\n",
       "    <tr>\n",
       "      <td>2</td>\n",
       "      <td>0</td>\n",
       "      <td>0</td>\n",
       "      <td>0</td>\n",
       "      <td>0</td>\n",
       "      <td>0</td>\n",
       "      <td>0</td>\n",
       "      <td>0</td>\n",
       "      <td>0</td>\n",
       "      <td>0</td>\n",
       "      <td>0</td>\n",
       "      <td>0</td>\n",
       "      <td>0</td>\n",
       "      <td>0</td>\n",
       "      <td>0</td>\n",
       "      <td>1</td>\n",
       "      <td>0</td>\n",
       "    </tr>\n",
       "    <tr>\n",
       "      <td>3</td>\n",
       "      <td>0</td>\n",
       "      <td>0</td>\n",
       "      <td>0</td>\n",
       "      <td>0</td>\n",
       "      <td>0</td>\n",
       "      <td>0</td>\n",
       "      <td>0</td>\n",
       "      <td>0</td>\n",
       "      <td>1</td>\n",
       "      <td>0</td>\n",
       "      <td>0</td>\n",
       "      <td>0</td>\n",
       "      <td>0</td>\n",
       "      <td>0</td>\n",
       "      <td>0</td>\n",
       "      <td>0</td>\n",
       "    </tr>\n",
       "    <tr>\n",
       "      <td>4</td>\n",
       "      <td>0</td>\n",
       "      <td>0</td>\n",
       "      <td>0</td>\n",
       "      <td>0</td>\n",
       "      <td>0</td>\n",
       "      <td>0</td>\n",
       "      <td>0</td>\n",
       "      <td>0</td>\n",
       "      <td>0</td>\n",
       "      <td>0</td>\n",
       "      <td>0</td>\n",
       "      <td>0</td>\n",
       "      <td>0</td>\n",
       "      <td>1</td>\n",
       "      <td>0</td>\n",
       "      <td>0</td>\n",
       "    </tr>\n",
       "    <tr>\n",
       "      <td>5</td>\n",
       "      <td>0</td>\n",
       "      <td>0</td>\n",
       "      <td>0</td>\n",
       "      <td>0</td>\n",
       "      <td>0</td>\n",
       "      <td>0</td>\n",
       "      <td>0</td>\n",
       "      <td>0</td>\n",
       "      <td>0</td>\n",
       "      <td>0</td>\n",
       "      <td>0</td>\n",
       "      <td>1</td>\n",
       "      <td>0</td>\n",
       "      <td>0</td>\n",
       "      <td>0</td>\n",
       "      <td>0</td>\n",
       "    </tr>\n",
       "  </tbody>\n",
       "</table>\n",
       "</div>"
      ],
      "text/plain": [
       "   0.5  1.0  1.5  2.0  2.5  3.0  3.5  4.0  4.5  5.0  5.5  6.0  6.5  7.0  7.5  \\\n",
       "0    0    0    0    0    0    0    0    0    0    0    0    0    0    1    0   \n",
       "1    0    0    0    0    0    0    0    1    0    0    0    0    0    0    0   \n",
       "2    0    0    0    0    0    0    0    0    0    0    0    0    0    0    1   \n",
       "3    0    0    0    0    0    0    0    0    1    0    0    0    0    0    0   \n",
       "4    0    0    0    0    0    0    0    0    0    0    0    0    0    1    0   \n",
       "5    0    0    0    0    0    0    0    0    0    0    0    1    0    0    0   \n",
       "\n",
       "   8.0  \n",
       "0    0  \n",
       "1    0  \n",
       "2    0  \n",
       "3    0  \n",
       "4    0  \n",
       "5    0  "
      ]
     },
     "execution_count": 30,
     "metadata": {},
     "output_type": "execute_result"
    }
   ],
   "source": [
    "Cloud_cover1 = pd.get_dummies(clean_data_1['Cloud_cover'], drop_first=True)\n",
    "Cloud_cover1.head(6)"
   ]
  },
  {
   "cell_type": "code",
   "execution_count": 31,
   "metadata": {},
   "outputs": [],
   "source": [
    "clean_data_1 = pd.concat([clean_data_1,RainToday1,Cloud_cover1,AvgHum1],axis=1)\n",
    "\n",
    "clean_data_1.drop('RainToday',axis=1,inplace=True)\n",
    "clean_data_1.head(5)\n",
    "clean_data_1.to_csv('multi_test_123.csv')"
   ]
  },
  {
   "cell_type": "code",
   "execution_count": 32,
   "metadata": {},
   "outputs": [],
   "source": [
    "X = clean_data_1.drop(\"Yes\",axis=1)\n",
    "Y = clean_data_1[\"Yes\"]\n"
   ]
  },
  {
   "cell_type": "code",
   "execution_count": 33,
   "metadata": {},
   "outputs": [
    {
     "name": "stdout",
     "output_type": "stream",
     "text": [
      "              precision    recall  f1-score   support\n",
      "\n",
      "           0       0.98      1.00      0.99        87\n",
      "           1       1.00      0.91      0.95        23\n",
      "\n",
      "    accuracy                           0.98       110\n",
      "   macro avg       0.99      0.96      0.97       110\n",
      "weighted avg       0.98      0.98      0.98       110\n",
      "\n",
      "[[87  0]\n",
      " [ 2 21]]\n",
      "[0 0 1 0 0 1 0 0 0 0 0 0 0 1 0 0 0 0 0 0 0 0 0 0 0 0 0 0 0 0 1 0 0 1 0 0 0\n",
      " 0 0 0 0 0 0 0 0 0 0 1 0 0 1 0 0 0 0 0 0 0 0 0 0 1 0 0 1 0 0 0 0 0 0 0 0 1\n",
      " 0 1 0 0 0 0 0 0 1 0 0 1 0 0 0 1 0 1 0 0 0 0 1 0 0 0 0 1 0 1 1 1 1 0 0 0]\n"
     ]
    },
    {
     "name": "stderr",
     "output_type": "stream",
     "text": [
      "C:\\Users\\DEEP\\Anaconda3\\lib\\site-packages\\sklearn\\linear_model\\logistic.py:432: FutureWarning: Default solver will be changed to 'lbfgs' in 0.22. Specify a solver to silence this warning.\n",
      "  FutureWarning)\n"
     ]
    }
   ],
   "source": [
    "#logistic regression\n",
    "X_train, X_test, Y_train, Y_test = train_test_split(X,Y,test_size=0.3, random_state=15)\n",
    "logmodel = LogisticRegression()\n",
    "logmodel.fit(X_train, Y_train)\n",
    "\n",
    "# prediction\n",
    "prediction = logmodel.predict(X_test) \n",
    "class_report = classification_report(Y_test,prediction)\n",
    "con_mat = confusion_matrix(Y_test,prediction)\n",
    "print(class_report)\n",
    "print(con_mat)\n",
    "print(prediction)"
   ]
  },
  {
   "cell_type": "code",
   "execution_count": 34,
   "metadata": {},
   "outputs": [
    {
     "name": "stdout",
     "output_type": "stream",
     "text": [
      "98.18181818181819\n"
     ]
    }
   ],
   "source": [
    "from sklearn.metrics import accuracy_score\n",
    "final_ans = accuracy_score(Y_test,prediction) * 100\n",
    "print(final_ans)"
   ]
  },
  {
   "cell_type": "code",
   "execution_count": 35,
   "metadata": {},
   "outputs": [
    {
     "name": "stdout",
     "output_type": "stream",
     "text": [
      "[0, 0, 0, 0, 0, 0, 0, 0, 0, 0, 0, 0, 0, 0, 0, 0, 0, 0, 0, 0, 0, 0, 0, 0, 0, 0, 0, 0, 0, 0, 0, 0, 0, 0, 0, 0, 0, 0, 0, 0, 0, 0, 0, 0, 0, 0, 0, 0, 0, 0, 0, 0, 0, 0, 0, 0, 0, 0, 0, 0, 0, 0, 0, 0, 0, 0, 0, 0, 0, 0, 0, 0, 0, 0, 0, 0, 0, 0, 0, 0, 0, 0, 0, 0, 0, 0, 0, 0, 0, 0, 0, 0, 0, 0, 0, 0, 0, 0, 0, 0, 0, 0, 0, 0, 0, 0, 0, 0, 0, 0]\n",
      "[0.01331747 0.00269502 1.         0.00230579 0.01222239 0.9983708\n",
      " 0.00668    0.02028318 0.00438058 0.00371385 0.0061326  0.001258\n",
      " 0.00758711 1.         0.00684612 0.01103339 0.0062488  0.0094322\n",
      " 0.01236763 0.0023678  0.00419133 0.24420978 0.00321781 0.00763163\n",
      " 0.01059427 0.00281472 0.00731032 0.00145301 0.05606687 0.01174898\n",
      " 0.99964985 0.0104199  0.00141109 0.99999991 0.00156719 0.02624887\n",
      " 0.00448281 0.02650084 0.01742924 0.00311781 0.48312757 0.00948331\n",
      " 0.00514426 0.18840154 0.00447353 0.00382036 0.01528483 0.99413887\n",
      " 0.00801487 0.0061607  0.88939532 0.00349149 0.01179611 0.00154642\n",
      " 0.00556187 0.00556718 0.00849421 0.01620427 0.01223115 0.07093037\n",
      " 0.00346028 1.         0.12543321 0.01021461 0.99991953 0.00306045\n",
      " 0.00264234 0.00475608 0.01206342 0.00599294 0.00810707 0.00538947\n",
      " 0.01638383 1.         0.00732673 1.         0.00539221 0.01217465\n",
      " 0.0035983  0.00282009 0.00531993 0.03263264 1.         0.00355656\n",
      " 0.00717583 1.         0.00515421 0.0043965  0.00485837 0.97957547\n",
      " 0.00533957 0.99935978 0.01080245 0.00135118 0.00190322 0.00218223\n",
      " 0.99999308 0.01407839 0.01224262 0.00911614 0.00444252 0.88047968\n",
      " 0.00884773 1.         1.         0.80922224 0.99999994 0.00874736\n",
      " 0.00110924 0.00698209]\n",
      "0.5\n",
      "0.999000499750125\n",
      "No Skill: ROC AUC=0.500\n",
      "Logistic: ROC AUC=0.999\n"
     ]
    },
    {
     "data": {
      "image/png": "[encoded data removed]",
      "text/plain": [
       "<Figure size 432x288 with 1 Axes>"
      ]
     },
     "metadata": {
      "needs_background": "light"
     },
     "output_type": "display_data"
    }
   ],
   "source": [
    "#ROC Curve\n",
    "from sklearn.metrics import roc_curve\n",
    "from sklearn.metrics import roc_auc_score\n",
    "\n",
    "#probabilities\n",
    "ns_probs = [0 for _ in range(len(Y_test))]\n",
    "lr_probs = logmodel.predict_proba(X_test)\n",
    "lr_probs = lr_probs[:, 1]\n",
    "print(ns_probs)\n",
    "print(lr_probs)\n",
    "\n",
    "ns_auc = roc_auc_score(Y_test, ns_probs)\n",
    "lr_auc = roc_auc_score(Y_test, lr_probs)\n",
    "\n",
    "print(ns_auc)\n",
    "print(lr_auc)\n",
    "\n",
    "# summarize scores\n",
    "print('No Skill: ROC AUC=%.3f' % (ns_auc))\n",
    "print('Logistic: ROC AUC=%.3f' % (lr_auc))\n",
    "\n",
    "# calculate roc curves\n",
    "ns_fpr, ns_tpr, _ = roc_curve(Y_test, ns_probs)\n",
    "lr_fpr, lr_tpr, _ = roc_curve(Y_test, lr_probs)\n",
    "\n",
    "# plot the roc curve for the model\n",
    "plt.plot(ns_fpr, ns_tpr, linestyle='--', label='No Skill')\n",
    "plt.plot(lr_fpr, lr_tpr, marker='.', label='Logistic')\n",
    "\n",
    "# axis labels\n",
    "plt.xlabel('False Positive Rate')\n",
    "plt.ylabel('True Positive Rate')\n",
    "\n",
    "# show the legend\n",
    "plt.legend()\n",
    "\n",
    "# show the plot\n",
    "plt.show()"
   ]
  },
  {
   "cell_type": "code",
   "execution_count": null,
   "metadata": {},
   "outputs": [],
   "source": []
  }
 ],
 "metadata": {
  "kernelspec": {
   "display_name": "Python 3",
   "language": "python",
   "name": "python3"
  },
  "language_info": {
   "codemirror_mode": {
    "name": "ipython",
    "version": 3
   },
   "file_extension": ".py",
   "mimetype": "text/x-python",
   "name": "python",
   "nbconvert_exporter": "python",
   "pygments_lexer": "ipython3",
   "version": "3.7.4"
  }
 },
 "nbformat": 4,
 "nbformat_minor": 2
}
